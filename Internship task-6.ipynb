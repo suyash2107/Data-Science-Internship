{
 "cells": [
  {
   "cell_type": "code",
   "execution_count": null,
   "id": "bdb043da-4b2e-4345-ac3b-3b62518eebc5",
   "metadata": {},
   "outputs": [],
   "source": [
    "# Programmer : Suyash Shinde\n",
    "# College : Keystone School Of Engineering\n",
    "# Class : TE (B)\n",
    "# Roll No :  36"
   ]
  },
  {
   "cell_type": "code",
   "execution_count": 1,
   "id": "638e2156-d253-48ca-9ed0-b38e757c4fea",
   "metadata": {},
   "outputs": [],
   "source": [
    "import pandas as pd\n",
    "import matplotlib.pyplot as plt"
   ]
  },
  {
   "cell_type": "markdown",
   "id": "bda4aee8-4be6-4c8d-b429-8e4a169e005f",
   "metadata": {},
   "source": [
    "# Load the dataset"
   ]
  },
  {
   "cell_type": "code",
   "execution_count": 2,
   "id": "ac516f1f-ecfa-4329-bd33-ac42cd8ac12e",
   "metadata": {},
   "outputs": [],
   "source": [
    "netflix_data = pd.read_csv(\"netflix_titles.csv\")"
   ]
  },
  {
   "cell_type": "markdown",
   "id": "f41baea4-0b6f-4d3c-af2e-5660f7b7579a",
   "metadata": {},
   "source": [
    "# Print the names of all TV shows released in 2020"
   ]
  },
  {
   "cell_type": "code",
   "execution_count": 3,
   "id": "40e413a2-b32b-4836-95eb-254151c61a9e",
   "metadata": {},
   "outputs": [
    {
     "name": "stdout",
     "output_type": "stream",
     "text": [
      "TV Shows released in 2020:\n",
      "['3%', '\\u200bSAINT SEIYA: Knights of the Zodiac', '(Un)Well', '#blackAF', '100 Humans', '13 Reasons Why', '7SEEDS', 'A Love So Beautiful', 'A Perfect Crime', 'A Queen Is Born', 'Absurd Planet', 'After Life', 'Aggretsuko', 'AJ and the Queen', 'Alexa & Katie', 'Alice in Borderland', 'Alien TV', 'Alien Worlds', 'All For Love', 'Almost Happy', 'Altered Carbon', 'Anitta: Made In Honório', \"Archibald's Next Big Thing\", 'Ares', \"Aunty Donna's Big Ol' House of Fun\", 'Away', 'Babies', 'Baby', 'Babylon Berlin', 'Bad Boy Billionaires: India', 'BAKI', 'Bakugan: Armored Alliance', 'Barbarians', 'Barbie Dreamhouse Adventures: Go Team Roberts', 'Best Leftovers Ever!', 'Betaal', 'Bhaag Beanie Bhaag', 'Big Mouth', 'Biohackers', 'Blood & Water', 'Blood of Zeus', 'Bloodride', 'BNA', 'BoJack Horseman', 'Bookmarks', 'Bread Barbershop', 'BREAK IT ALL: The History of Rock in Latin America', 'Brews Brothers', 'Bridgerton', 'Buddi', \"Bunk'd\", 'Cagaster of an Insect Cage', 'Calico Critters Mini Episodes Clover', 'Caliphate', 'Call the Midwife', 'Can You Hear Me?', 'Car Masters: Rust to Riches', 'Carmel: Who Killed Maria Marta?', 'Castlevania', 'Challenger', 'Check The Store Next Door: The Next Chapter', 'Cheer', \"Chef's Table: BBQ\", 'Chico Bon Bon: Monkey with a Tool Belt', 'Children of Adam', 'Chilling Adventures of Sabrina', 'Cleo & Cuquin', 'Cocomelon', 'Connected', 'Control Z', 'Cooked with Cannabis', 'Coronavirus, Explained', 'Country Ever After', 'Crazy Delicious', 'Criminal: UK', 'Curon', 'Cursed', 'Dark', 'Dark Desire', 'DASH & LILY', 'Dating Around', 'Dating Around: Brazil', \"DC's Legends of Tomorrow\", 'Dead to Me', 'Deadwind', 'Deaf U', 'DeMarcus Family Rules', 'Detention', 'Diablero', 'Dino Girl Gauko', 'Dirty Money', 'Do Do Sol Sol La La Sol', 'Dorohedoro', 'Down to Earth with Zac Efron', 'Dracula', \"Dragon's Dogma\", 'Dragons: Rescue Riders', 'DRIFTING DRAGONS', 'El Dragón: Return of a Warrior', 'Elite', 'Emily in Paris', \"Emily's Wonder Lab\", 'Equinox', 'Especial 20 años Fútbol de Primera', 'Ethos', 'Extracurricular', 'F is for Family', 'Fabulous Lives of Bollywood Wives', 'Family Business', 'Family Reunion', 'Fary : Hexagone', 'Fast & Furious Spy Racers', 'Fauda', 'Fear City: New York vs The Mafia', 'Feel Good', 'Felipe Esparza: Bad Decisions', 'Find Yourself', 'Flavorful Origins', 'Floor Is Lava', 'Followers', 'Formula 1: Drive to Survive', 'Frank Elstner: Just One Last Question', 'Freud', 'Fukrey Boyzzz', 'Fuller House', 'Futmalls.com', 'GAME ON: A Comedy Crossover Event', 'Gameboys Level-Up Edition', 'Gentefied', 'Get Even', 'Get Organized with The Home Edit', 'Ghost in the Shell: SAC_2045', 'Glitch Techs', 'Glow Up', 'Go! Go! Cory Carson', 'Goedam', 'Good Morning, Verônica', 'Grace and Frankie', 'Graceful Friends', 'Grand Army', 'Great Pretender', 'Greenhouse Academy', 'Greenleaf', 'Handsome Siblings', 'Harvey Street Kids', 'Hasmukh', 'Heidi', 'Hello Ninja', \"Her Mother's Killer\", 'Hi Bye, Mama!', 'High Score', 'High Seas', 'Hip-Hop Evolution', 'History 101', 'Holiday Home Makeover with Mr. Christmas', 'Hollywood', 'Home for Christmas', 'Home Game', 'Homemade', 'Hoops', 'Hospital Playlist', 'How to Fix a Drug Scandal', 'How to Get Away with Murder', 'How To Ruin Christmas', 'How to Sell Drugs Online (Fast)', 'Hyena', 'I AM A KILLER', 'I AM A KILLER: RELEASED', 'I Am Not Okay With This', 'Immigration Nation', 'In The Dark', 'Indian Matchmaking', 'Inhuman Resources', 'Into the Night', \"It's Okay to Not Be Okay\", 'Itaewon Class', \"Izzy's Koala World\", 'J-Style Trip', 'Jack Whitehall: Travels with My Father', 'Jamtara - Sabka Number Ayega', 'Japan Sinks: 2020', 'Jeffrey Epstein: Filthy Rich', 'JU-ON: Origins', 'Julie and the Phantoms', 'Jurassic World Camp Cretaceous', 'Killer Inside: The Mind of Aaron Hernandez', \"Kim's Convenience\", \"Kings of Jo'Burg\", 'Kipo and the Age of Wonderbeasts', 'Kissing Game', 'Kongsuni and Friends', 'Korean Pork Belly Rhapsody', 'La casa de papel', 'La Línea: Shadow of Narco', 'La Révolution', 'Last Chance U', 'Last Tango in Halifax', 'LEGO Ninjago', 'Lenox Hill', 'Little Singham', 'Locke & Key', 'Locked Up', 'Love & Anarchy', 'Love 101', 'Lovestruck in the City', 'Lucifer', 'Luna Nera', 'Magic for Humans', 'Man Like Mobeen', 'Man with a Plan', 'Manhunt: Deadly Games', 'Maradona in Mexico', \"Marvel's Agents of S.H.I.E.L.D.\", 'Masaba Masaba', 'MeatEater', 'Medical Police', 'Men on a Mission', 'Messiah', 'Middleditch & Schwartz', 'Mighty Express', 'Mighty Little Bheem', 'Mighty Little Bheem: Festival of Colors', 'Million Dollar Beach House', 'Mismatched', 'Morphle', 'Most Beautiful Thing', 'Move', 'Mr. Iglesias', 'My Holo Love', 'My Next Guest Needs No Introduction With David Letterman', 'My Perfect Landing', 'Mystery Lab', 'Mystic Pop-up Bar', 'Nadiya’s Time to Eat', 'Nailed It', 'Nailed It! Germany', 'Narcos: Mexico', 'Never Have I Ever', 'Next in Fashion', 'Night on Earth', 'Nisman: The Prosecutor, the President, and the Spy', 'Norsemen', 'October Faction', 'Oh Yuck', 'Oktoberfest: Beer & Blood', 'Omniscient', 'On My Block', 'Outer Banks', 'Over Christmas', 'Ozark', 'Paava Kadhaigal', 'Pandemic: How to Prevent an Outbreak', 'Paradise PD', 'Paranormal', 'Passion. Panache. Pep', 'Patriot Act with Hasan Minhaj', 'Patton Oswalt: I Love Everything', 'Pokémon Journeys: The Series', 'Polly Pocket', 'Power Players', 'Power Rangers Beast Morphers', 'Private Lives', 'Puerta 7', 'Pup Academy', 'Queen Sono', 'Queer Eye', 'Ragnarok', 'Ratched', 'Reality Z', 'Record of Youth', 'Regiment Diaries', 'Restaurants on the Edge', 'Rhyme Time Town', 'Rhyme Time Town Singalongs', 'Rise of Empires: Ottoman', 'Rita', 'Room 2806: The Accusation', 'Roswell, New Mexico', 'Rugal', 'Run On', 'Running Man', 'Rust Valley Restorers', 'SanPa: Sins of the Savior', 'Say I Do', \"Schitt's Creek\", 'Schulz Saves America', 'Scissor Seven', 'Selena: The Series', 'Self Made: Inspired by the Life of Madam C.J. Walker', 'Selling Sunset', 'Sex Education', 'Sex, Explained', 'Shaun the Sheep: Adventures from Mossy Bottom', 'She', 'She-Ra and the Princesses of Power', 'Signs', 'Sing On!', 'Sing On! Germany', 'Sing On! Spain', 'Six Windows in the Desert', 'Skin Decision: Before and After', 'Sleepless Society: Two Pillows & A Lost Soul', 'Sneakerheads', 'Social Distance', 'Somebody Feed Phil', 'Someone Has to Die', 'Song Exploder', 'Southern Survival', 'Space Force', 'Spectros', 'Spinning Out', 'Spirit Riding Free: Riding Academy', 'StarBeam', 'Start-Up', 'Stateless', 'Stolen Away', 'Stranger', 'Street Food: Latin America', 'Suburra: Blood on Rome', 'Sugar Rush', 'Sugar Rush Christmas', 'Summertime', \"Sunderland 'Til I Die\", 'Super Wings', 'Surviving R. Kelly Part II: The Reckoning', 'Sweet Magnolias', 'Taco Chronicles', 'Taj Mahal 1989', 'Team Kaylie', 'Teenage Bounty Hunters', 'The 100', 'The American Barbecue Showdown', 'The Baby-Sitters Club', 'The Barrier', 'The Big Flower Fight', 'The Big Show Show', 'The Boss Baby: Back in Business', 'The Business of Drugs', 'The Cabin with Bert Kreischer', 'The Chef Show', 'The Circle', 'The Circle Brazil', 'The Circle France', 'The Creative Indians', 'The Crown', 'The Devil Punisher', 'The Duchess', 'The Eddy', 'The English Game', 'The Epic Tales of Captain Underpants in Space', 'The Expanding Universe of Ashley Garcia', 'The Forest of Love: Deep Cut', 'The Ghost Bride', 'The Gift', 'The Good Detective', 'The Good Place', 'The goop lab with Gwyneth Paltrow', 'The Great British Baking Show', 'The Great British Baking Show: Holidays', 'The Great Heist', 'The Haunting of Bly Manor', 'The Healing Powers of Dude', 'The Holiday Movies That Made Us', 'The Hollow', 'The Hook Up Plan', 'The House of Flowers', 'The Iliza Shlesinger Sketch Show', 'The InBESTigators', 'The Innocence Files', 'The King: Eternal Monarch', 'The Last Dance', 'The Last Kids on Earth', 'The Last Kingdom', 'The Last Word', 'The Least Expected Day: Inside the Movistar Team 2019', 'The Letter for the King', 'The Liberator', 'The Magicians', 'The Mess You Leave Behind', 'The Midnight Gospel', 'The Minions of Midas', 'The New Legends of Monkey', 'The Order', 'The Pharmacist', 'The Platform', 'The Playbook', 'The Politician', 'The Protector', 'The Queen and the Conqueror', \"The Queen's Gambit\", 'The Rain', 'The Ranch', 'The Ripper', 'The School Nurse Files', 'The Search', 'THE STRANGER', \"The Surgeon's Cut\", 'The Trials of Gabriel Fernandez', 'The Umbrella Academy', 'The Uncanny Counter', 'The Underclass', 'The Unremarkable Juanquini', 'The Valhalla Murders', \"The Victims' Game\", 'The Windsors', 'The Witcher: A Look Inside the Episodes', 'The Woods', 'The Worst Witch', 'Thomas and Friends', 'Tiger King: Murder, Mayhem and Madness', 'Tiny Creatures', 'Tiny Pretty Things', 'To the Lake', 'Too Hot to Handle', 'Trailer Park Boys: The Animated Series', 'Transformers Rescue Bots Academy', 'Transformers: Cyberverse', 'Transformers: War For Cybertron Trilogy', 'Transformers: War for Cybertron: Earthrise', 'Trash Truck', 'Trial 4', 'Trial By Media', 'Trinkets', 'True: Terrific Tales', 'Twogether', 'Ugly Delicious', 'Unauthorized Living', 'Undercover', 'Unlucky Ploy', 'Unorthodox', 'Unsolved Mysteries', 'Unstoppable', 'Until Dawn', 'Valentino', 'Valeria', 'Vampires', 'Virgin River', 'Voices of Fire', 'Warrior Nun', 'Was It Love?', 'Wassup Man GO!', 'We Are the Champions', 'Well-Intended Love', 'Wentworth', 'What the Love! with Karan Johar', 'White Lines', 'Who Killed Malcolm X?', 'Whose Vote Counts, Explained', 'Win the Wilderness', 'Wizards: Tales of Arcadia', 'Word Party', 'Word Party Songs', \"Workin' Moms\", \"World's Most Wanted\", 'YooHoo to the Rescue', 'You Cannot Hide', 'Young Wallander']\n"
     ]
    }
   ],
   "source": [
    "tv_shows_2020 = netflix_data[(netflix_data['type'] == 'TV Show') & (netflix_data['release_year'] == 2020)]\n",
    "print(\"TV Shows released in 2020:\")\n",
    "print(tv_shows_2020['title'].tolist())"
   ]
  },
  {
   "cell_type": "markdown",
   "id": "61f21856-678c-4362-bfc4-b6de661f6a35",
   "metadata": {},
   "source": [
    "# Sort and print the names of movies in the \"Horror Movies\" category"
   ]
  },
  {
   "cell_type": "code",
   "execution_count": 4,
   "id": "43322782-5f8a-451d-b754-13f82951d73d",
   "metadata": {},
   "outputs": [
    {
     "name": "stdout",
     "output_type": "stream",
     "text": [
      "\n",
      "Sorted Horror Movies:\n",
      "['#Alive', '122', '13 Cameras', '13 Sins', '14 Cameras', '1920', '1BR', '1st Summoning', '23:59', '6-5=2', '706', 'A Haunted House', 'A Haunting at Silver Falls: The Return', 'A.M.I.', 'Aaviri', 'Adrishya', 'Aftershock', 'Agyaat', 'All Light Will End', 'All the Boys Love Mandy Lane', 'Andhaghaaram', 'Andhakaaram', 'Animas', 'Antidote', 'Apollo 18', 'Apostle', 'As Above, So Below', 'Assimilate', 'Await Further Instructions', 'Backcountry', 'Before I Wake', 'Bhoot', 'Bulbbul', 'Cabin Fever', 'Cadaver', 'Cam', 'Candyman', 'Carrie', 'Carriers', 'Case 39', 'Chernobyl Diaries', \"Child's Play\", \"Cirque du Freak: The Vampire's Assistant\", 'Clinical', 'Cloverfield', 'Conjuring Spirit', 'Creep', 'Creep 2', 'Cult of Chucky', 'Dabbe 5: Zehr-i Cin', 'Dabbe 6: The Return', 'Dabbe: The Possession', 'Daemonium', 'Danur: I Can See Ghosts', 'Dark Forces', 'Dark Light', 'Dark Skies', 'Darna Mana Hai', 'Day of the Dead: Bloodline', 'Deadcon', 'Death House', 'Death Note', 'Death of Me', 'Delirium', 'Demonic', 'Desolation', \"Devil's Gate\", \"Don't Be Afraid of the Dark\", \"Don't Knock Twice\", 'Don’t Listen', 'Doom', 'Doom: Annihilation', 'Eerie', 'Eli', 'Emelie', 'Errementari: The Blacksmith and the Devil', 'Event Horizon', 'Family Blood', 'Final Destination', 'Final Destination 2', 'Final Destination 3', 'FirstBorn', 'Friday the 13th', 'Friend Request', 'GANTZ:O', 'Game Over (Hindi Version)', 'Game Over (Tamil Version)', 'Game Over (Telugu Version)', 'Gehenna: Where Death Lives', \"Gerald's Game\", 'Ghost House', 'Ghost Stories', 'Ghosts of War', 'Girl on the Third Floor', 'Girls With Balls', 'Gothika', \"Grandmother's Farm\", \"Grandmother's Farm Part 2\", 'Green Room', 'Hantu Kak Limah', 'Happy Hunting', 'Haunters: The Art of the Scare', 'Haunting on Fraternity Row', 'Havenhurst', 'He Never Died', \"He's Out There\", 'Head Count', 'Here Alone', 'Hide & Seek', 'His House', 'Hisss', 'Holidays', 'Horns', 'Horror Story', 'House at the End of the Street', 'House of the Witch', 'Hubie Halloween', 'Hungerford', 'Hush', 'Hypersomnia', 'I Am the Pretty Thing That Lives in the House', 'In The Deep', 'In the Tall Grass', 'Incarnate', 'Inhuman Kiss', 'Insidious', 'It Comes at Night', 'KL Zombi', 'Kaal', 'Kaali Khuhi', 'Kanika', 'Killer Klowns from Outer Space', 'Knock Knock', 'Krishna Cottage', 'Kristy', 'Kuntilanak', 'Laddaland', 'Lechmi', 'Legion', 'Life After Beth', 'Lifechanger', 'Little Evil', 'Living in Bondage: Breaking Free', 'Lupt', 'Macchli Jal Ki Rani Hai', \"Mad Ron's Prevues from Hell\", 'Malevolent', 'Malicious', 'Mara', 'May the Devil Take You', 'Medium', 'Mercy Black', 'Mohawk', 'Munafik 2', 'Murder Party', 'Mythily Veendum Varunnu', 'Nails', 'Nang Nak', 'Nobody Sleeps in the Woods Tonight', 'Oh My Ghost 2', 'Oh My Ghost 3', 'Oh My Ghost 4', 'Our House', 'P', 'Pagpag: Nine Lives', 'Paranormal Activity', 'Paranormal Investigation', 'Pari', 'Pee Mak', 'Phobia 2', 'Pizza', 'Polaroid', 'Prom Night', 'Psycho', 'Ragini MMS', 'Ragini MMS 2', 'Rakkhosh', 'Rampant', 'Ranbhool', 'Rattlesnake', 'Ravenous', 'Red Christmas', 'Resident Evil: Afterlife', 'Revenge of the Pontianak', 'Rise of the Zombie', 'Romina', \"Rosemary's Baby\", 'Sabrina', 'Savita Damodar Paranjpe', 'Scary Movie', 'Scary Movie 5', 'Scream 2', 'Scream 3', 'Secrets in the Hot Spring', 'Seven in Heaven', 'Shark Night', 'Shelter', 'Shutter', 'Silent Hill: Revelation', 'Sinister 2', 'Sinister Circle', 'Siren', 'Soul Robbers', 'Soul to Keep', 'Splatter', 'St. Agatha', 'Stephanie', 'Still', 'Stonehearst Asylum', 'Stree', 'Suzzanna: Buried Alive', 'Sweeney Todd: The Demon Barber of Fleet Street', 'Sweetheart', 'Tales From the Hood 2', 'Target', 'Temple', 'Terrifier', 'The 3rd Eye', 'The 3rd Eye 2', 'The Amityville Horror', 'The Autopsy of Jane Doe', 'The Babysitter', 'The Babysitter: Killer Queen', 'The Bar', 'The Basement', 'The Binding', 'The Black Room', \"The Blackcoat's Daughter\", 'The Blue Elephant 2', 'The Boy', 'The Bridge Curse', 'The Bye Bye Man', 'The Car', 'The Car: Road to Revenge', 'The Charnel House', 'The Conjuring', 'The Craft', 'The Darkness', 'The Day of the Lord', 'The Detained', 'The Devil Inside', 'The Devil and Father Amorth', 'The Diabolical', 'The Doll', 'The Doll 2', 'The Evil Dead', 'The Eyes of My Mother', 'The Figurine (Araromire)', 'The Final Destination', 'The Forest', 'The Forgotten', 'The Golem', 'The Green Inferno', 'The Hatred', 'The Haunting of Molly Hartley', 'The Heretics', 'The House Next Door', 'The Influence', 'The Invitation', 'The Last Exorcism', 'The Lodgers', 'The Mansion', 'The Maus', 'The Monster', 'The Open House', 'The Perfection', 'The Rezort', 'The Rift: The Dark Side of the Moon', 'The Ring', 'The Ritual', 'The Rope Curse 2', 'The Secret', 'The Silence', 'The Similars', 'The Super', 'The Texas Chainsaw Massacre', 'The Unborn Child', 'The Vatican Tapes', 'The Vault', 'The Wedding Curse', 'The Witch', 'The Witch Files', 'Thriller', 'Train of the Dead', 'Train to Busan', 'Tremors', 'Tremors 2: Aftershocks', 'Tremors 3: Back to Perfection', 'Tremors 4: The Legend Begins', 'Tremors 5:  Bloodline', 'Tremors 6: A Cold Day in Hell', 'Tremors: Shrieker Island', 'Truth or Dare', 'Tucker and Dale vs. Evil', 'Tusk', 'Twinsanity', 'U-Turn', 'Under the Shadow', 'Unfriended', 'Vampires vs. the Bronx', 'Veronica', 'Warda', 'We Summon the Darkness', 'Welcome to Willits', 'What Lies Beneath', 'Wildling', 'Winchester', 'Would You Rather', 'XX', 'Yoga Hosers', 'Zombieland', 'Ég man þig']\n"
     ]
    }
   ],
   "source": [
    "horror_movies = netflix_data[(netflix_data['type'] == 'Movie') & (netflix_data['listed_in'].str.contains('Horror Movies'))]\n",
    "sorted_horror_movies = horror_movies.sort_values(by='title')\n",
    "print(\"\\nSorted Horror Movies:\")\n",
    "print(sorted_horror_movies['title'].tolist())"
   ]
  },
  {
   "cell_type": "markdown",
   "id": "a550712b-f6fa-42de-8c3e-ec0f6f392ba2",
   "metadata": {},
   "source": [
    "# How many documentaries are there in the dataset?"
   ]
  },
  {
   "cell_type": "code",
   "execution_count": 5,
   "id": "c2dd0d96-9771-482a-889a-11c86c70b688",
   "metadata": {},
   "outputs": [
    {
     "name": "stdout",
     "output_type": "stream",
     "text": [
      "\n",
      "Number of Documentaries: 786\n"
     ]
    }
   ],
   "source": [
    "documentaries_count = netflix_data[netflix_data['listed_in'].str.contains('Documentaries')].shape[0]\n",
    "print(\"\\nNumber of Documentaries:\", documentaries_count)"
   ]
  },
  {
   "cell_type": "markdown",
   "id": "6989afa0-09eb-4a9c-85fa-66627f5433f7",
   "metadata": {},
   "source": [
    "# Print the titles and release years of movies directed by Christopher Nolan"
   ]
  },
  {
   "cell_type": "code",
   "execution_count": 6,
   "id": "62f0d595-11af-47b0-90f4-a35a29d1c71c",
   "metadata": {},
   "outputs": [
    {
     "name": "stdout",
     "output_type": "stream",
     "text": [
      "\n",
      "Movies directed by Christopher Nolan:\n",
      "          title  release_year\n",
      "2979  Inception          2010\n"
     ]
    }
   ],
   "source": [
    "nolan_movies = netflix_data[(netflix_data['director'] == 'Christopher Nolan') & (netflix_data['type'] == 'Movie')]\n",
    "print(\"\\nMovies directed by Christopher Nolan:\")\n",
    "print(nolan_movies[['title', 'release_year']].dropna())"
   ]
  },
  {
   "cell_type": "markdown",
   "id": "168c6307-e0be-4089-9785-3a8137331197",
   "metadata": {},
   "source": [
    "# How many movies are there with a runtime less than 60 minutes?"
   ]
  },
  {
   "cell_type": "code",
   "execution_count": 7,
   "id": "70c27617-6617-4e0f-9f27-72b1a75bedff",
   "metadata": {},
   "outputs": [
    {
     "name": "stdout",
     "output_type": "stream",
     "text": [
      "\n",
      "Number of movies with runtime less than 60 minutes: 2949\n"
     ]
    }
   ],
   "source": [
    "short_movies_count = netflix_data[(netflix_data['type'] == 'Movie') & (netflix_data['duration'] < '60 min')].shape[0]\n",
    "print(\"\\nNumber of movies with runtime less than 60 minutes:\", short_movies_count)"
   ]
  },
  {
   "cell_type": "markdown",
   "id": "f8cd2a60-def2-42ce-a6ad-1e29a77330ed",
   "metadata": {},
   "source": [
    "# How many TV shows are there with more than 5 seasons?"
   ]
  },
  {
   "cell_type": "code",
   "execution_count": 8,
   "id": "5f84f823-6fb6-4efb-8718-0cc5611e732d",
   "metadata": {},
   "outputs": [
    {
     "name": "stdout",
     "output_type": "stream",
     "text": [
      "\n",
      "Number of TV shows with more than 5 seasons: 2410\n"
     ]
    }
   ],
   "source": [
    "tv_shows_5_seasons = netflix_data[(netflix_data['type'] == 'TV Show') & (netflix_data['duration'].str.contains('Season'))]\n",
    "tv_shows_5_seasons_count = tv_shows_5_seasons[tv_shows_5_seasons['duration'].str.extract('(\\d+)').astype(int) > 5].shape[0]\n",
    "print(\"\\nNumber of TV shows with more than 5 seasons:\", tv_shows_5_seasons_count)"
   ]
  },
  {
   "cell_type": "markdown",
   "id": "a430ab68-39bd-4a3c-92d6-1f59e56ee1ce",
   "metadata": {},
   "source": [
    "# Print the names of TV shows with the word \"Detective\" in their title"
   ]
  },
  {
   "cell_type": "code",
   "execution_count": 9,
   "id": "6b5c23db-3050-4415-bf2e-674d61298fe7",
   "metadata": {},
   "outputs": [
    {
     "name": "stdout",
     "output_type": "stream",
     "text": [
      "\n",
      "TV Shows with 'Detective' in title:\n",
      "['Noddy Toyland Detective', 'The Good Detective', 'The Indian Detective', 'The Murder Detectives', 'Treehouse Detectives']\n"
     ]
    }
   ],
   "source": [
    "detective_shows = netflix_data[(netflix_data['type'] == 'TV Show') & (netflix_data['title'].str.contains('Detective'))]\n",
    "print(\"\\nTV Shows with 'Detective' in title:\")\n",
    "print(detective_shows['title'].tolist())"
   ]
  },
  {
   "cell_type": "markdown",
   "id": "b799e9fb-ff69-49e1-ae86-f266dea190b2",
   "metadata": {},
   "source": [
    "# Print the names of movies with the lowest and highest IMDb ratings"
   ]
  },
  {
   "cell_type": "code",
   "execution_count": null,
   "id": "27287ca6-2aa5-42e3-aef3-31021825c18d",
   "metadata": {},
   "outputs": [],
   "source": [
    "\n",
    "lowest_rating_movie = netflix_data[netflix_data['IMBb'] == netflix_data['IMDb'].min()]['title'].values[0]\n",
    "\n",
    "highest_rating_movie = netflix_data[netflix_data['IMBb'] == netflix_data['IMBb'].max()]['title'].values[0]\n",
    "print(\"\\nMovie with lowest IMDb rating:\", lowest_rating_movie)\n",
    "print(\"Movie with highest IMDb rating:\", highest_rating_movie)\n"
   ]
  },
  {
   "cell_type": "markdown",
   "id": "e18b605c-be88-4be6-ad04-7263ade88203",
   "metadata": {},
   "source": [
    "# Find information about the oldest and newest releases"
   ]
  },
  {
   "cell_type": "code",
   "execution_count": 14,
   "id": "834c44ff-4239-4a59-bb8f-2a34aeb6b3eb",
   "metadata": {},
   "outputs": [
    {
     "name": "stdout",
     "output_type": "stream",
     "text": [
      "\n",
      "Oldest Release:\n",
      "                                  title  release_year\n",
      "4867  Pioneers: First Women Filmmakers*          1925\n",
      "\n",
      "Newest Release:\n",
      "                                                  title  release_year\n",
      "980                                        Bling Empire          2021\n",
      "1222                                    Carmen Sandiego          2021\n",
      "1285                                           Charming          2021\n",
      "1355  Chris Rock Total Blackout: The Tamborine Exten...          2021\n",
      "1440                                          Cobra Kai          2021\n",
      "1514            Crack: Cocaine, Corruption & Conspiracy          2021\n",
      "1528                        Creating The Queen's Gambit          2021\n",
      "1780                                     Disenchantment          2021\n",
      "1864                                Dream Home Makeover          2021\n",
      "2327                                  Gabby's Dollhouse          2021\n",
      "2672                      Headspace Guide to Meditation          2021\n",
      "2741                                              Hilda          2021\n",
      "2753                             History of Swear Words          2021\n",
      "3018                Inside the World’s Toughest Prisons          2021\n",
      "3822                                              Lupin          2021\n",
      "4086                 Mighty Little Bheem: Kite Festival          2021\n",
      "4173                                            Monarca          2021\n",
      "4390                                  Nailed It! Mexico          2021\n",
      "4468        Night Stalker: The Hunt for a Serial Killer          2021\n",
      "4710                                   Outside the Wire          2021\n",
      "4965                                Pretend It’s a City          2021\n",
      "5103  Ratones Paranoicos: The Band that Rocked Argen...          2021\n",
      "5859                                        Stuck Apart          2021\n",
      "5921                                    Surviving Death          2021\n",
      "6477                               The Idhun Chronicles          2021\n",
      "6670                       The Minimalists: Less Is Now          2021\n",
      "6701                             The Netflix Afterparty          2021\n",
      "7220                      Tribhanga - Tedhi Medhi Crazy          2021\n",
      "7551                          What Happened to Mr. Cha?          2021\n",
      "7569                        What Would Sophia Loren Do?          2021\n",
      "7644                                           Wish You          2021\n"
     ]
    }
   ],
   "source": [
    "oldest_release = netflix_data[netflix_data['release_year'] == netflix_data['release_year'].min()]\n",
    "newest_release = netflix_data[netflix_data['release_year'] == netflix_data['release_year'].max()]\n",
    "print(\"\\nOldest Release:\")\n",
    "print(oldest_release[['title', 'release_year']])\n",
    "print(\"\\nNewest Release:\")\n",
    "print(newest_release[['title', 'release_year']])"
   ]
  },
  {
   "cell_type": "markdown",
   "id": "f5df9c88-869d-4df3-9f1e-45dadad89bcf",
   "metadata": {},
   "source": [
    "# Plot the distribution of movies and TV shows by release year"
   ]
  },
  {
   "cell_type": "code",
   "execution_count": 15,
   "id": "7d07895d-da2f-4bc0-91ce-b34cb49c6196",
   "metadata": {},
   "outputs": [
    {
     "data": {
      "image/png": "[encoded data removed]",
      "text/plain": [
       "<Figure size 1000x600 with 1 Axes>"
      ]
     },
     "metadata": {},
     "output_type": "display_data"
    }
   ],
   "source": [
    "plt.figure(figsize=(10, 6))\n",
    "plt.hist(netflix_data[netflix_data['type'] == 'Movie']['release_year'], bins=30, alpha=0.5, label='Movies')\n",
    "plt.hist(netflix_data[netflix_data['type'] == 'TV Show']['release_year'], bins=30, alpha=0.5, label='TV Shows')\n",
    "plt.title('Distribution of Movies and TV Shows by Release Year')\n",
    "plt.xlabel('Release Year')\n",
    "plt.ylabel('Count')\n",
    "plt.legend()\n",
    "plt.grid(True)\n",
    "plt.show()"
   ]
  },
  {
   "cell_type": "code",
   "execution_count": null,
   "id": "84e36ba7-a8df-4a11-9624-1fe842804a59",
   "metadata": {},
   "outputs": [],
   "source": []
  }
 ],
 "metadata": {
  "kernelspec": {
   "display_name": "Python 3 (ipykernel)",
   "language": "python",
   "name": "python3"
  },
  "language_info": {
   "codemirror_mode": {
    "name": "ipython",
    "version": 3
   },
   "file_extension": ".py",
   "mimetype": "text/x-python",
   "name": "python",
   "nbconvert_exporter": "python",
   "pygments_lexer": "ipython3",
   "version": "3.11.7"
  }
 },
 "nbformat": 4,
 "nbformat_minor": 5
}
